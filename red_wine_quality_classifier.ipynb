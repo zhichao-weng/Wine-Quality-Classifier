{
 "cells": [
  {
   "cell_type": "markdown",
   "metadata": {},
   "source": [
    "# Red Wine Quality Classifier"
   ]
  },
  {
   "cell_type": "code",
   "execution_count": 1,
   "metadata": {
    "collapsed": true
   },
   "outputs": [],
   "source": [
    "#import the red wine datasheet\n",
    "import pandas as pd\n",
    "data = pd.read_csv('/Users/zhichaoweng/Downloads/winequality-white.csv',sep = ';')"
   ]
  },
  {
   "cell_type": "code",
   "execution_count": 5,
   "metadata": {},
   "outputs": [
    {
     "data": {
      "text/plain": [
       "fixed acidity           float64\n",
       "volatile acidity        float64\n",
       "citric acid             float64\n",
       "residual sugar          float64\n",
       "chlorides               float64\n",
       "free sulfur dioxide     float64\n",
       "total sulfur dioxide    float64\n",
       "density                 float64\n",
       "pH                      float64\n",
       "sulphates               float64\n",
       "alcohol                 float64\n",
       "quality                   int64\n",
       "dtype: object"
      ]
     },
     "execution_count": 5,
     "metadata": {},
     "output_type": "execute_result"
    }
   ],
   "source": [
    "#make sure each data is numerical and there is no categorical data\n",
    "data.dtypes"
   ]
  },
  {
   "cell_type": "markdown",
   "metadata": {},
   "source": [
    "Looks like all the data are numerical."
   ]
  },
  {
   "cell_type": "markdown",
   "metadata": {},
   "source": [
    "To check how the label results are distributed statistically"
   ]
  },
  {
   "cell_type": "code",
   "execution_count": 18,
   "metadata": {},
   "outputs": [
    {
     "data": {
      "text/plain": [
       "6    2198\n",
       "5    1457\n",
       "7     880\n",
       "8     175\n",
       "4     163\n",
       "3      20\n",
       "9       5\n",
       "Name: quality, dtype: int64"
      ]
     },
     "execution_count": 18,
     "metadata": {},
     "output_type": "execute_result"
    }
   ],
   "source": [
    "data['quality'].value_counts()\n"
   ]
  },
  {
   "cell_type": "code",
   "execution_count": 19,
   "metadata": {},
   "outputs": [
    {
     "data": {
      "text/plain": [
       "(array([   20.,     0.,     0.,   163.,     0.,     0.,  1457.,     0.,\n",
       "            0.,     0.,  2198.,     0.,     0.,   880.,     0.,     0.,\n",
       "          175.,     0.,     0.,     5.]),\n",
       " array([ 3. ,  3.3,  3.6,  3.9,  4.2,  4.5,  4.8,  5.1,  5.4,  5.7,  6. ,\n",
       "         6.3,  6.6,  6.9,  7.2,  7.5,  7.8,  8.1,  8.4,  8.7,  9. ]),\n",
       " <a list of 20 Patch objects>)"
      ]
     },
     "execution_count": 19,
     "metadata": {},
     "output_type": "execute_result"
    },
    {
     "data": {
      "image/png": "[encoded data removed]",
      "text/plain": [
       "<Figure size 432x288 with 1 Axes>"
      ]
     },
     "metadata": {},
     "output_type": "display_data"
    }
   ],
   "source": [
    "import matplotlib.pyplot as plt\n",
    "%matplotlib inline\n",
    "plt.hist(data['quality'], bins = 20)"
   ]
  },
  {
   "cell_type": "markdown",
   "metadata": {},
   "source": [
    "## Initial label selection"
   ]
  },
  {
   "cell_type": "code",
   "execution_count": 27,
   "metadata": {},
   "outputs": [
    {
     "data": {
      "text/plain": [
       "Counter({0: 183, 1: 4535, 2: 180})"
      ]
     },
     "execution_count": 27,
     "metadata": {},
     "output_type": "execute_result"
    }
   ],
   "source": [
    "#initial label distribution. \n",
    "#initial rule: 3, 4: bad quality.  5, 6, 7: middle quality.  8, 9: good quality\n",
    "#convert these three types (bad, middle and good qualities) into numerical data: 0 - bad quality. 1 - middle quality. 2 - good quality\n",
    "\n",
    "y1 = data['quality']\n",
    "y1.head()\n",
    "\n",
    "#initial conversion to assign 0, 1, 2 to bad, middle and good quality\n",
    "y = []\n",
    "for i in y1:\n",
    "    if i < 5: \n",
    "        y.append(0)\n",
    "    elif 4 < i < 8:\n",
    "        y.append(1)\n",
    "    else:\n",
    "        y.append(2)\n",
    "\n",
    "#to check how the newly assigned label distributes\n",
    "from collections import Counter\n",
    "Counter(y)"
   ]
  },
  {
   "cell_type": "markdown",
   "metadata": {},
   "source": [
    "## Initial feature selection"
   ]
  },
  {
   "cell_type": "code",
   "execution_count": 28,
   "metadata": {},
   "outputs": [
    {
     "data": {
      "text/plain": [
       "Index(['fixed acidity', 'volatile acidity', 'citric acid', 'residual sugar',\n",
       "       'chlorides', 'free sulfur dioxide', 'total sulfur dioxide', 'density',\n",
       "       'pH', 'sulphates', 'alcohol', 'quality'],\n",
       "      dtype='object')"
      ]
     },
     "execution_count": 28,
     "metadata": {},
     "output_type": "execute_result"
    }
   ],
   "source": [
    "data.columns"
   ]
  },
  {
   "cell_type": "code",
   "execution_count": 33,
   "metadata": {},
   "outputs": [
    {
     "data": {
      "text/html": [
       "<div>\n",
       "<style>\n",
       "    .dataframe thead tr:only-child th {\n",
       "        text-align: right;\n",
       "    }\n",
       "\n",
       "    .dataframe thead th {\n",
       "        text-align: left;\n",
       "    }\n",
       "\n",
       "    .dataframe tbody tr th {\n",
       "        vertical-align: top;\n",
       "    }\n",
       "</style>\n",
       "<table border=\"1\" class=\"dataframe\">\n",
       "  <thead>\n",
       "    <tr style=\"text-align: right;\">\n",
       "      <th></th>\n",
       "      <th>fixed acidity</th>\n",
       "      <th>volatile acidity</th>\n",
       "      <th>citric acid</th>\n",
       "      <th>residual sugar</th>\n",
       "      <th>chlorides</th>\n",
       "      <th>free sulfur dioxide</th>\n",
       "      <th>total sulfur dioxide</th>\n",
       "      <th>density</th>\n",
       "      <th>pH</th>\n",
       "      <th>sulphates</th>\n",
       "      <th>alcohol</th>\n",
       "    </tr>\n",
       "  </thead>\n",
       "  <tbody>\n",
       "    <tr>\n",
       "      <th>0</th>\n",
       "      <td>7.0</td>\n",
       "      <td>0.27</td>\n",
       "      <td>0.36</td>\n",
       "      <td>20.7</td>\n",
       "      <td>0.045</td>\n",
       "      <td>45.0</td>\n",
       "      <td>170.0</td>\n",
       "      <td>1.0010</td>\n",
       "      <td>3.00</td>\n",
       "      <td>0.45</td>\n",
       "      <td>8.8</td>\n",
       "    </tr>\n",
       "    <tr>\n",
       "      <th>1</th>\n",
       "      <td>6.3</td>\n",
       "      <td>0.30</td>\n",
       "      <td>0.34</td>\n",
       "      <td>1.6</td>\n",
       "      <td>0.049</td>\n",
       "      <td>14.0</td>\n",
       "      <td>132.0</td>\n",
       "      <td>0.9940</td>\n",
       "      <td>3.30</td>\n",
       "      <td>0.49</td>\n",
       "      <td>9.5</td>\n",
       "    </tr>\n",
       "    <tr>\n",
       "      <th>2</th>\n",
       "      <td>8.1</td>\n",
       "      <td>0.28</td>\n",
       "      <td>0.40</td>\n",
       "      <td>6.9</td>\n",
       "      <td>0.050</td>\n",
       "      <td>30.0</td>\n",
       "      <td>97.0</td>\n",
       "      <td>0.9951</td>\n",
       "      <td>3.26</td>\n",
       "      <td>0.44</td>\n",
       "      <td>10.1</td>\n",
       "    </tr>\n",
       "    <tr>\n",
       "      <th>3</th>\n",
       "      <td>7.2</td>\n",
       "      <td>0.23</td>\n",
       "      <td>0.32</td>\n",
       "      <td>8.5</td>\n",
       "      <td>0.058</td>\n",
       "      <td>47.0</td>\n",
       "      <td>186.0</td>\n",
       "      <td>0.9956</td>\n",
       "      <td>3.19</td>\n",
       "      <td>0.40</td>\n",
       "      <td>9.9</td>\n",
       "    </tr>\n",
       "    <tr>\n",
       "      <th>4</th>\n",
       "      <td>7.2</td>\n",
       "      <td>0.23</td>\n",
       "      <td>0.32</td>\n",
       "      <td>8.5</td>\n",
       "      <td>0.058</td>\n",
       "      <td>47.0</td>\n",
       "      <td>186.0</td>\n",
       "      <td>0.9956</td>\n",
       "      <td>3.19</td>\n",
       "      <td>0.40</td>\n",
       "      <td>9.9</td>\n",
       "    </tr>\n",
       "  </tbody>\n",
       "</table>\n",
       "</div>"
      ],
      "text/plain": [
       "   fixed acidity  volatile acidity  citric acid  residual sugar  chlorides  \\\n",
       "0            7.0              0.27         0.36            20.7      0.045   \n",
       "1            6.3              0.30         0.34             1.6      0.049   \n",
       "2            8.1              0.28         0.40             6.9      0.050   \n",
       "3            7.2              0.23         0.32             8.5      0.058   \n",
       "4            7.2              0.23         0.32             8.5      0.058   \n",
       "\n",
       "   free sulfur dioxide  total sulfur dioxide  density    pH  sulphates  \\\n",
       "0                 45.0                 170.0   1.0010  3.00       0.45   \n",
       "1                 14.0                 132.0   0.9940  3.30       0.49   \n",
       "2                 30.0                  97.0   0.9951  3.26       0.44   \n",
       "3                 47.0                 186.0   0.9956  3.19       0.40   \n",
       "4                 47.0                 186.0   0.9956  3.19       0.40   \n",
       "\n",
       "   alcohol  \n",
       "0      8.8  \n",
       "1      9.5  \n",
       "2     10.1  \n",
       "3      9.9  \n",
       "4      9.9  "
      ]
     },
     "execution_count": 33,
     "metadata": {},
     "output_type": "execute_result"
    }
   ],
   "source": [
    "Feature = data[['fixed acidity', 'volatile acidity', 'citric acid', 'residual sugar', 'chlorides', 'free sulfur dioxide', 'total sulfur dioxide', 'density', 'pH', 'sulphates', 'alcohol']]\n",
    "Feature.head()"
   ]
  },
  {
   "cell_type": "code",
   "execution_count": 34,
   "metadata": {},
   "outputs": [
    {
     "data": {
      "text/plain": [
       "fixed acidity           0\n",
       "volatile acidity        0\n",
       "citric acid             0\n",
       "residual sugar          0\n",
       "chlorides               0\n",
       "free sulfur dioxide     0\n",
       "total sulfur dioxide    0\n",
       "density                 0\n",
       "pH                      0\n",
       "sulphates               0\n",
       "alcohol                 0\n",
       "dtype: int64"
      ]
     },
     "execution_count": 34,
     "metadata": {},
     "output_type": "execute_result"
    }
   ],
   "source": [
    "Feature.isnull().sum() #check if there's any NaN in the dataset"
   ]
  },
  {
   "cell_type": "markdown",
   "metadata": {},
   "source": [
    "## Data preprocessing"
   ]
  },
  {
   "cell_type": "code",
   "execution_count": 35,
   "metadata": {},
   "outputs": [
    {
     "data": {
      "text/html": [
       "<div>\n",
       "<style>\n",
       "    .dataframe thead tr:only-child th {\n",
       "        text-align: right;\n",
       "    }\n",
       "\n",
       "    .dataframe thead th {\n",
       "        text-align: left;\n",
       "    }\n",
       "\n",
       "    .dataframe tbody tr th {\n",
       "        vertical-align: top;\n",
       "    }\n",
       "</style>\n",
       "<table border=\"1\" class=\"dataframe\">\n",
       "  <thead>\n",
       "    <tr style=\"text-align: right;\">\n",
       "      <th></th>\n",
       "      <th>fixed acidity</th>\n",
       "      <th>volatile acidity</th>\n",
       "      <th>citric acid</th>\n",
       "      <th>residual sugar</th>\n",
       "      <th>chlorides</th>\n",
       "      <th>free sulfur dioxide</th>\n",
       "      <th>total sulfur dioxide</th>\n",
       "      <th>density</th>\n",
       "      <th>pH</th>\n",
       "      <th>sulphates</th>\n",
       "      <th>alcohol</th>\n",
       "    </tr>\n",
       "  </thead>\n",
       "  <tbody>\n",
       "    <tr>\n",
       "      <th>0</th>\n",
       "      <td>7.0</td>\n",
       "      <td>0.27</td>\n",
       "      <td>0.36</td>\n",
       "      <td>20.7</td>\n",
       "      <td>0.045</td>\n",
       "      <td>45.0</td>\n",
       "      <td>170.0</td>\n",
       "      <td>1.0010</td>\n",
       "      <td>3.00</td>\n",
       "      <td>0.45</td>\n",
       "      <td>8.8</td>\n",
       "    </tr>\n",
       "    <tr>\n",
       "      <th>1</th>\n",
       "      <td>6.3</td>\n",
       "      <td>0.30</td>\n",
       "      <td>0.34</td>\n",
       "      <td>1.6</td>\n",
       "      <td>0.049</td>\n",
       "      <td>14.0</td>\n",
       "      <td>132.0</td>\n",
       "      <td>0.9940</td>\n",
       "      <td>3.30</td>\n",
       "      <td>0.49</td>\n",
       "      <td>9.5</td>\n",
       "    </tr>\n",
       "    <tr>\n",
       "      <th>2</th>\n",
       "      <td>8.1</td>\n",
       "      <td>0.28</td>\n",
       "      <td>0.40</td>\n",
       "      <td>6.9</td>\n",
       "      <td>0.050</td>\n",
       "      <td>30.0</td>\n",
       "      <td>97.0</td>\n",
       "      <td>0.9951</td>\n",
       "      <td>3.26</td>\n",
       "      <td>0.44</td>\n",
       "      <td>10.1</td>\n",
       "    </tr>\n",
       "    <tr>\n",
       "      <th>3</th>\n",
       "      <td>7.2</td>\n",
       "      <td>0.23</td>\n",
       "      <td>0.32</td>\n",
       "      <td>8.5</td>\n",
       "      <td>0.058</td>\n",
       "      <td>47.0</td>\n",
       "      <td>186.0</td>\n",
       "      <td>0.9956</td>\n",
       "      <td>3.19</td>\n",
       "      <td>0.40</td>\n",
       "      <td>9.9</td>\n",
       "    </tr>\n",
       "    <tr>\n",
       "      <th>4</th>\n",
       "      <td>7.2</td>\n",
       "      <td>0.23</td>\n",
       "      <td>0.32</td>\n",
       "      <td>8.5</td>\n",
       "      <td>0.058</td>\n",
       "      <td>47.0</td>\n",
       "      <td>186.0</td>\n",
       "      <td>0.9956</td>\n",
       "      <td>3.19</td>\n",
       "      <td>0.40</td>\n",
       "      <td>9.9</td>\n",
       "    </tr>\n",
       "  </tbody>\n",
       "</table>\n",
       "</div>"
      ],
      "text/plain": [
       "   fixed acidity  volatile acidity  citric acid  residual sugar  chlorides  \\\n",
       "0            7.0              0.27         0.36            20.7      0.045   \n",
       "1            6.3              0.30         0.34             1.6      0.049   \n",
       "2            8.1              0.28         0.40             6.9      0.050   \n",
       "3            7.2              0.23         0.32             8.5      0.058   \n",
       "4            7.2              0.23         0.32             8.5      0.058   \n",
       "\n",
       "   free sulfur dioxide  total sulfur dioxide  density    pH  sulphates  \\\n",
       "0                 45.0                 170.0   1.0010  3.00       0.45   \n",
       "1                 14.0                 132.0   0.9940  3.30       0.49   \n",
       "2                 30.0                  97.0   0.9951  3.26       0.44   \n",
       "3                 47.0                 186.0   0.9956  3.19       0.40   \n",
       "4                 47.0                 186.0   0.9956  3.19       0.40   \n",
       "\n",
       "   alcohol  \n",
       "0      8.8  \n",
       "1      9.5  \n",
       "2     10.1  \n",
       "3      9.9  \n",
       "4      9.9  "
      ]
     },
     "execution_count": 35,
     "metadata": {},
     "output_type": "execute_result"
    }
   ],
   "source": [
    "X = Feature\n",
    "X.head()"
   ]
  },
  {
   "cell_type": "code",
   "execution_count": 37,
   "metadata": {},
   "outputs": [
    {
     "data": {
      "text/plain": [
       "[1, 1, 1, 1, 1]"
      ]
     },
     "execution_count": 37,
     "metadata": {},
     "output_type": "execute_result"
    }
   ],
   "source": [
    "y[:5]"
   ]
  },
  {
   "cell_type": "code",
   "execution_count": 38,
   "metadata": {
    "collapsed": true
   },
   "outputs": [],
   "source": [
    "from sklearn.preprocessing import StandardScaler\n",
    "scc = StandardScaler()\n",
    "X_scc = scc.fit_transform(X)"
   ]
  },
  {
   "cell_type": "code",
   "execution_count": 62,
   "metadata": {},
   "outputs": [
    {
     "data": {
      "text/plain": [
       "Text(0, 0.5, 'variation in data (1 means original data)')"
      ]
     },
     "execution_count": 62,
     "metadata": {},
     "output_type": "execute_result"
    },
    {
     "data": {
      "image/png": "[encoded data removed]",
      "text/plain": [
       "<Figure size 360x360 with 1 Axes>"
      ]
     },
     "metadata": {},
     "output_type": "display_data"
    }
   ],
   "source": [
    "# perform principal component analysis (PCA) for feature dimension reduction\n",
    "from sklearn.decomposition import PCA\n",
    "pca = PCA()\n",
    "X_pca = pca.fit_transform(X_scc)\n",
    "\n",
    "# plot to find out how many principal components are best for model training\n",
    "plt.figure(figsize = (5,5))\n",
    "plt.grid()\n",
    "plt.plot(np.cumsum(pca.explained_variance_ratio_), 'ko-')\n",
    "plt.xlabel('num of components')\n",
    "plt.ylabel('variation in data (1 means original data)')"
   ]
  },
  {
   "cell_type": "markdown",
   "metadata": {},
   "source": [
    "From the graph above, it is easy to see that using over 7 components can yield over 90% of the variation in the data. Hence, 7 components are considered in this work."
   ]
  },
  {
   "cell_type": "code",
   "execution_count": 54,
   "metadata": {
    "collapsed": true
   },
   "outputs": [],
   "source": [
    "# Reduce the dimension of the data to 7 (use 7 components)\n",
    "pca1 = PCA(n_components = 7)\n",
    "X_pca1 = pca1.fit_transform(X_scc)"
   ]
  },
  {
   "cell_type": "code",
   "execution_count": 55,
   "metadata": {
    "collapsed": true
   },
   "outputs": [],
   "source": [
    "#split the data into training and testing dataset\n",
    "from sklearn.model_selection import train_test_split\n",
    "X_train, X_test, y_train, y_test = train_test_split(X_pca1, y, test_size = 0.25, random_state = 3)"
   ]
  },
  {
   "cell_type": "code",
   "execution_count": null,
   "metadata": {
    "collapsed": true
   },
   "outputs": [],
   "source": []
  },
  {
   "cell_type": "markdown",
   "metadata": {},
   "source": [
    "## Machine learning model building"
   ]
  },
  {
   "cell_type": "markdown",
   "metadata": {},
   "source": [
    "Different models are used here (kNN, Decision Tree, Random Forests, Gradient Boosted Decision Tree, SVM, Logistic Regression) to this dataset"
   ]
  },
  {
   "cell_type": "markdown",
   "metadata": {},
   "source": [
    "This section aims to find the best parameter for each machine learning model for this red wine dataset"
   ]
  },
  {
   "cell_type": "markdown",
   "metadata": {},
   "source": [
    "###                       1. kNN"
   ]
  },
  {
   "cell_type": "code",
   "execution_count": 56,
   "metadata": {},
   "outputs": [
    {
     "data": {
      "text/plain": [
       "Text(0, 0.5, 'accuracy')"
      ]
     },
     "execution_count": 56,
     "metadata": {},
     "output_type": "execute_result"
    },
    {
     "data": {
      "image/png": "[encoded data removed]",
      "text/plain": [
       "<Figure size 432x288 with 1 Axes>"
      ]
     },
     "metadata": {},
     "output_type": "display_data"
    }
   ],
   "source": [
    "from sklearn.neighbors import KNeighborsClassifier\n",
    "from sklearn.metrics import accuracy_score\n",
    "\n",
    "num = 30\n",
    "acc_knn = []\n",
    "\n",
    "for i in range(num):\n",
    "    knn = KNeighborsClassifier(n_neighbors = i+1)\n",
    "    knn.fit(X_train, y_train)\n",
    "    pred_knn = knn.predict(X_test)\n",
    "    acc_knn.append(accuracy_score(y_test, pred_knn))\n",
    "\n",
    "plt.figure\n",
    "plt.plot(range(num), acc_knn)\n",
    "plt.xlabel(\"num of k\")\n",
    "plt.ylabel(\"accuracy\")"
   ]
  },
  {
   "cell_type": "markdown",
   "metadata": {},
   "source": [
    "Looks like the accuracy reaches its saturation value (~0.925) after k > 7."
   ]
  },
  {
   "cell_type": "markdown",
   "metadata": {},
   "source": [
    "### 2. Logistic Regression"
   ]
  },
  {
   "cell_type": "code",
   "execution_count": 48,
   "metadata": {
    "collapsed": true
   },
   "outputs": [],
   "source": [
    "from sklearn.linear_model import LogisticRegression"
   ]
  },
  {
   "cell_type": "markdown",
   "metadata": {},
   "source": [
    "#### a. lbfgs solver"
   ]
  },
  {
   "cell_type": "code",
   "execution_count": 66,
   "metadata": {},
   "outputs": [
    {
     "data": {
      "text/plain": [
       "Text(0.5, 1.0, 'lbfgs solver')"
      ]
     },
     "execution_count": 66,
     "metadata": {},
     "output_type": "execute_result"
    },
    {
     "data": {
      "image/png": "[encoded data removed]",
      "text/plain": [
       "<Figure size 432x288 with 1 Axes>"
      ]
     },
     "metadata": {},
     "output_type": "display_data"
    }
   ],
   "source": [
    "import numpy as np\n",
    "\n",
    "num = np.linspace(0.1,4,50)\n",
    "acc_log1 = []\n",
    "\n",
    "for i in num:\n",
    "    log1 = LogisticRegression(solver = 'lbfgs', penalty = 'l2', C = i)\n",
    "    log1.fit(X_train, y_train)\n",
    "    pred_log1 = log1.predict(X_test)\n",
    "    acc_log1.append(accuracy_score(y_test, pred_log1))\n",
    "\n",
    "plt.figure()\n",
    "plt.plot(num, acc_log1)    \n",
    "plt.xlabel('C')\n",
    "plt.ylabel('accuracy')\n",
    "plt.title('lbfgs solver')"
   ]
  },
  {
   "cell_type": "markdown",
   "metadata": {},
   "source": [
    "The accuracy is independent with the change of C (accuracy is always around 0.92)"
   ]
  },
  {
   "cell_type": "markdown",
   "metadata": {},
   "source": [
    "#### b. sag solver"
   ]
  },
  {
   "cell_type": "code",
   "execution_count": 67,
   "metadata": {},
   "outputs": [
    {
     "data": {
      "text/plain": [
       "Text(0.5, 1.0, 'sag solver')"
      ]
     },
     "execution_count": 67,
     "metadata": {},
     "output_type": "execute_result"
    },
    {
     "data": {
      "image/png": "[encoded data removed]",
      "text/plain": [
       "<Figure size 432x288 with 1 Axes>"
      ]
     },
     "metadata": {},
     "output_type": "display_data"
    }
   ],
   "source": [
    "import numpy as np\n",
    "\n",
    "num = np.linspace(0.1,4,50)\n",
    "acc_log1 = []\n",
    "\n",
    "for i in num:\n",
    "    log1 = LogisticRegression(solver = 'sag', penalty = 'l2', C = i)\n",
    "    log1.fit(X_train, y_train)\n",
    "    pred_log1 = log1.predict(X_test)\n",
    "    acc_log1.append(accuracy_score(y_test, pred_log1))\n",
    "\n",
    "plt.figure()\n",
    "plt.plot(num, acc_log1)    \n",
    "plt.xlabel('C')\n",
    "plt.ylabel('accuracy')\n",
    "plt.title('sag solver')"
   ]
  },
  {
   "cell_type": "markdown",
   "metadata": {},
   "source": [
    "The accuracy is independent with the change of C (accuracy is always around 0.92)"
   ]
  },
  {
   "cell_type": "markdown",
   "metadata": {},
   "source": [
    "#### c. saga solver"
   ]
  },
  {
   "cell_type": "code",
   "execution_count": 69,
   "metadata": {},
   "outputs": [
    {
     "data": {
      "text/plain": [
       "Text(0.5, 1.0, 'saga solver')"
      ]
     },
     "execution_count": 69,
     "metadata": {},
     "output_type": "execute_result"
    },
    {
     "data": {
      "image/png": "[encoded data removed]",
      "text/plain": [
       "<Figure size 432x288 with 1 Axes>"
      ]
     },
     "metadata": {},
     "output_type": "display_data"
    }
   ],
   "source": [
    "import numpy as np\n",
    "\n",
    "num = np.linspace(0.1,4,50)\n",
    "acc_log1 = []\n",
    "\n",
    "for i in num:\n",
    "    log1 = LogisticRegression(solver = 'saga', penalty = 'l2', C = i)\n",
    "    log1.fit(X_train, y_train)\n",
    "    pred_log1 = log1.predict(X_test)\n",
    "    acc_log1.append(accuracy_score(y_test, pred_log1))\n",
    "\n",
    "plt.figure()\n",
    "plt.plot(num, acc_log1)    \n",
    "plt.xlabel('C')\n",
    "plt.ylabel('accuracy')\n",
    "plt.title('saga solver')"
   ]
  },
  {
   "cell_type": "markdown",
   "metadata": {},
   "source": [
    "The accuracy is independent with the change of C (accuracy is always around 0.92)"
   ]
  },
  {
   "cell_type": "markdown",
   "metadata": {},
   "source": [
    "#### d. newton-cg"
   ]
  },
  {
   "cell_type": "code",
   "execution_count": 70,
   "metadata": {},
   "outputs": [
    {
     "data": {
      "text/plain": [
       "Text(0.5, 1.0, 'newton-cg solver')"
      ]
     },
     "execution_count": 70,
     "metadata": {},
     "output_type": "execute_result"
    },
    {
     "data": {
      "image/png": "[encoded data removed]",
      "text/plain": [
       "<Figure size 432x288 with 1 Axes>"
      ]
     },
     "metadata": {},
     "output_type": "display_data"
    }
   ],
   "source": [
    "import numpy as np\n",
    "\n",
    "num = np.linspace(0.1,4,50)\n",
    "acc_log1 = []\n",
    "\n",
    "for i in num:\n",
    "    log1 = LogisticRegression(solver = 'newton-cg', penalty = 'l2', C = i)\n",
    "    log1.fit(X_train, y_train)\n",
    "    pred_log1 = log1.predict(X_test)\n",
    "    acc_log1.append(accuracy_score(y_test, pred_log1))\n",
    "\n",
    "plt.figure()\n",
    "plt.plot(num, acc_log1)    \n",
    "plt.xlabel('C')\n",
    "plt.ylabel('accuracy')\n",
    "plt.title('newton-cg solver')"
   ]
  },
  {
   "cell_type": "markdown",
   "metadata": {},
   "source": [
    "The accuracy is independent with the change of C (accuracy is always around 0.92)"
   ]
  },
  {
   "cell_type": "markdown",
   "metadata": {},
   "source": [
    "Conclusively, for logistic regression, all different solvers (lbfgs, sag, saga and newton-cg) don't make much difference in model generalization."
   ]
  },
  {
   "cell_type": "markdown",
   "metadata": {},
   "source": [
    "### 3. Decision Tree"
   ]
  },
  {
   "cell_type": "code",
   "execution_count": 97,
   "metadata": {},
   "outputs": [
    {
     "data": {
      "text/plain": [
       "Text(0.5, 1.0, 'Decision tree')"
      ]
     },
     "execution_count": 97,
     "metadata": {},
     "output_type": "execute_result"
    },
    {
     "data": {
      "image/png": "[encoded data removed]",
      "text/plain": [
       "<Figure size 432x288 with 1 Axes>"
      ]
     },
     "metadata": {},
     "output_type": "display_data"
    }
   ],
   "source": [
    "from sklearn.tree import DecisionTreeClassifier\n",
    "\n",
    "num = range(10)\n",
    "acc_dt = []\n",
    "\n",
    "for i in num:\n",
    "    dt = DecisionTreeClassifier(max_depth = i+1, random_state = 3, criterion = 'entropy')\n",
    "    clf = dt.fit(X_train, y_train)\n",
    "    pred_dt = dt.predict(X_test)\n",
    "    acc_dt.append(accuracy_score(y_test, pred_dt))\n",
    "\n",
    "plt.figure()\n",
    "plt.plot(num, acc_dt)\n",
    "plt.xlabel('num of depths')\n",
    "plt.ylabel('accuracy')\n",
    "plt.title('Decision tree')"
   ]
  },
  {
   "cell_type": "markdown",
   "metadata": {},
   "source": [
    "It shows that the accuracy drops as the number of depths of the tree increase. The accuracy reaches its best at max_depth = 3."
   ]
  },
  {
   "cell_type": "markdown",
   "metadata": {},
   "source": [
    "### 4. Random Forests"
   ]
  },
  {
   "cell_type": "code",
   "execution_count": 96,
   "metadata": {},
   "outputs": [
    {
     "data": {
      "text/plain": [
       "Text(0.5, 1.0, 'Random Forests')"
      ]
     },
     "execution_count": 96,
     "metadata": {},
     "output_type": "execute_result"
    },
    {
     "data": {
      "image/png": "[encoded data removed]",
      "text/plain": [
       "<Figure size 432x288 with 1 Axes>"
      ]
     },
     "metadata": {},
     "output_type": "display_data"
    }
   ],
   "source": [
    "from sklearn.ensemble import RandomForestClassifier\n",
    "\n",
    "num = range(30)\n",
    "acc_rf = []\n",
    "\n",
    "for i in num:\n",
    "    rf = RandomForestClassifier(n_estimators = i+1, criterion = 'entropy', random_state = 3)\n",
    "    rf.fit(X_train, y_train)\n",
    "    pred_rf = rf.predict(X_test)\n",
    "    acc_rf.append(accuracy_score(y_test, pred_rf))\n",
    "\n",
    "plt.figure()\n",
    "plt.plot(num, acc_rf)\n",
    "plt.xlabel('n_estimators')\n",
    "plt.ylabel('accuracy')\n",
    "plt.title('Random Forests')"
   ]
  },
  {
   "cell_type": "markdown",
   "metadata": {},
   "source": [
    "It shows that when n_estimators = 15, the accuracy peaks to 0.94."
   ]
  },
  {
   "cell_type": "markdown",
   "metadata": {},
   "source": [
    "### 5. Gradient Boosted Decision Tree"
   ]
  },
  {
   "cell_type": "code",
   "execution_count": 105,
   "metadata": {},
   "outputs": [
    {
     "data": {
      "image/png": "[encoded data removed]",
      "text/plain": [
       "<Figure size 432x288 with 1 Axes>"
      ]
     },
     "metadata": {},
     "output_type": "display_data"
    },
    {
     "data": {
      "image/png": "[encoded data removed]",
      "text/plain": [
       "<Figure size 432x288 with 1 Axes>"
      ]
     },
     "metadata": {},
     "output_type": "display_data"
    },
    {
     "data": {
      "image/png": "[encoded data removed]",
      "text/plain": [
       "<Figure size 432x288 with 1 Axes>"
      ]
     },
     "metadata": {},
     "output_type": "display_data"
    },
    {
     "data": {
      "image/png": "[encoded data removed]",
      "text/plain": [
       "<Figure size 432x288 with 1 Axes>"
      ]
     },
     "metadata": {},
     "output_type": "display_data"
    }
   ],
   "source": [
    "from sklearn.ensemble import GradientBoostingClassifier\n",
    "\n",
    "rate = [0.01, 0.1, 1, 5]\n",
    "num = range(10)\n",
    "\n",
    "for i in rate:\n",
    "    acc_gbc = []\n",
    "    for k in num:\n",
    "        gbc = GradientBoostingClassifier(learning_rate = i, n_estimators = k+1, random_state = 3)\n",
    "        gbc.fit(X_train, y_train)\n",
    "        pred_gbc = gbc.predict(X_test)\n",
    "        acc_gbc.append(accuracy_score(y_test, pred_gbc))\n",
    "    \n",
    "    plt.figure()\n",
    "    plt.plot(num, acc_gbc)\n",
    "    plt.xlabel('num of estimators')\n",
    "    plt.ylabel('accuracy')\n",
    "    plt.title('learning rate %.2f' %i)\n",
    "        "
   ]
  },
  {
   "cell_type": "markdown",
   "metadata": {},
   "source": [
    "From the results above, it is clear that using relatively small learning rate (< 0.1) is better for Gradient Boosting Decision Tree model"
   ]
  },
  {
   "cell_type": "markdown",
   "metadata": {},
   "source": [
    "### 6 . SVM"
   ]
  },
  {
   "cell_type": "code",
   "execution_count": 106,
   "metadata": {
    "collapsed": true
   },
   "outputs": [],
   "source": [
    "from sklearn.svm import SVC"
   ]
  },
  {
   "cell_type": "markdown",
   "metadata": {},
   "source": [
    "#### a. linear kernel"
   ]
  },
  {
   "cell_type": "code",
   "execution_count": 110,
   "metadata": {},
   "outputs": [
    {
     "data": {
      "text/plain": [
       "Text(0.5, 1.0, 'kernel: linear')"
      ]
     },
     "execution_count": 110,
     "metadata": {},
     "output_type": "execute_result"
    },
    {
     "data": {
      "image/png": "[encoded data removed]",
      "text/plain": [
       "<Figure size 432x288 with 1 Axes>"
      ]
     },
     "metadata": {},
     "output_type": "display_data"
    }
   ],
   "source": [
    "num = np.linspace(0.01,1,50)\n",
    "acc_svm = []\n",
    "for i in num:\n",
    "    svm = SVC(kernel = 'linear', C = i)\n",
    "    svm.fit(X_train, y_train)\n",
    "    pred_svm = svm.predict(X_test)\n",
    "    acc_svm.append(accuracy_score(y_test, pred_svm))\n",
    "\n",
    "plt.figure()\n",
    "plt.plot(num, acc_svm)\n",
    "plt.xlabel('C')\n",
    "plt.ylabel('accuracy')\n",
    "plt.title('kernel: linear')"
   ]
  },
  {
   "cell_type": "markdown",
   "metadata": {},
   "source": [
    "SVM linear kernel model: the accuracy is independent on C and is always ~ 0.92."
   ]
  },
  {
   "cell_type": "markdown",
   "metadata": {},
   "source": [
    "#### b. rbf kernel"
   ]
  },
  {
   "cell_type": "code",
   "execution_count": 111,
   "metadata": {},
   "outputs": [
    {
     "data": {
      "text/plain": [
       "Text(0.5, 1.0, 'kernel: rbf')"
      ]
     },
     "execution_count": 111,
     "metadata": {},
     "output_type": "execute_result"
    },
    {
     "data": {
      "image/png": "[encoded data removed]",
      "text/plain": [
       "<Figure size 432x288 with 1 Axes>"
      ]
     },
     "metadata": {},
     "output_type": "display_data"
    }
   ],
   "source": [
    "num = np.linspace(0.01,1,50)\n",
    "acc_svm = []\n",
    "for i in num:\n",
    "    svm = SVC(kernel = 'rbf', C = i)\n",
    "    svm.fit(X_train, y_train)\n",
    "    pred_svm = svm.predict(X_test)\n",
    "    acc_svm.append(accuracy_score(y_test, pred_svm))\n",
    "\n",
    "plt.figure()\n",
    "plt.plot(num, acc_svm)\n",
    "plt.xlabel('C')\n",
    "plt.ylabel('accuracy')\n",
    "plt.title('kernel: rbf')"
   ]
  },
  {
   "cell_type": "markdown",
   "metadata": {},
   "source": [
    "SVM rbf kernel model: the accuracy is independent on C and is always ~ 0.92."
   ]
  },
  {
   "cell_type": "markdown",
   "metadata": {},
   "source": [
    "#### c. sigmoid"
   ]
  },
  {
   "cell_type": "code",
   "execution_count": 112,
   "metadata": {},
   "outputs": [
    {
     "data": {
      "text/plain": [
       "Text(0.5, 1.0, 'kernel: sigmoid')"
      ]
     },
     "execution_count": 112,
     "metadata": {},
     "output_type": "execute_result"
    },
    {
     "data": {
      "image/png": "[encoded data removed]",
      "text/plain": [
       "<Figure size 432x288 with 1 Axes>"
      ]
     },
     "metadata": {},
     "output_type": "display_data"
    }
   ],
   "source": [
    "num = np.linspace(0.01,1,50)\n",
    "acc_svm = []\n",
    "for i in num:\n",
    "    svm = SVC(kernel = 'sigmoid', C = i)\n",
    "    svm.fit(X_train, y_train)\n",
    "    pred_svm = svm.predict(X_test)\n",
    "    acc_svm.append(accuracy_score(y_test, pred_svm))\n",
    "\n",
    "plt.figure()\n",
    "plt.plot(num, acc_svm)\n",
    "plt.xlabel('C')\n",
    "plt.ylabel('accuracy')\n",
    "plt.title('kernel: sigmoid')"
   ]
  },
  {
   "cell_type": "markdown",
   "metadata": {},
   "source": [
    "SVM sigmoid kernel model: the accuracy decreases as C increases and accuracy reaches the peak (~0.92) when C = 0."
   ]
  },
  {
   "cell_type": "markdown",
   "metadata": {},
   "source": [
    "Conclusively, SVM (kernel: linear and rbf) are similar for model training result."
   ]
  },
  {
   "cell_type": "markdown",
   "metadata": {},
   "source": [
    "## Evaluation of different models using different metrics"
   ]
  },
  {
   "cell_type": "markdown",
   "metadata": {},
   "source": [
    "### 1. Model training using optimal parameters found from previous section"
   ]
  },
  {
   "cell_type": "code",
   "execution_count": 149,
   "metadata": {},
   "outputs": [],
   "source": [
    "#kNN\n",
    "knn = KNeighborsClassifier(n_neighbors = 7)\n",
    "knn.fit(X_train, y_train)\n",
    "pred_knn = knn.predict(X_test)\n",
    "pred_knn_prb = knn.predict_proba(X_test)\n",
    "\n",
    "#Logistic Regression\n",
    "lgr = LogisticRegression(solver = 'lbfgs', penalty = 'l2', C = 2)\n",
    "lgr.fit(X_train, y_train)\n",
    "pred_lgr = lgr.predict(X_test)\n",
    "pred_lgr_prb = lgr.predict_proba(X_test)\n",
    "                         \n",
    "#Decision Tree\n",
    "dt = DecisionTreeClassifier(max_depth = 2, criterion = 'entropy', random_state = 3)\n",
    "dt.fit(X_train, y_train)\n",
    "pred_dt = dt.predict(X_test)\n",
    "#probability not suitable\n",
    "                    \n",
    "#Random Forest\n",
    "rf = RandomForestClassifier(n_estimators = 15, criterion = 'entropy', random_state = 3)\n",
    "rf.fit(X_train, y_train)\n",
    "pred_rf = rf.predict(X_test)\n",
    "pred_rf_prb = rf.predict_proba(X_test)\n",
    "                         \n",
    "#Gradient Boosting Decision Tree \n",
    "gbc = GradientBoostingClassifier(learning_rate = 0.1, n_estimators = 4, random_state = 3)\n",
    "gbc.fit(X_train, y_train)\n",
    "pred_gbc = gbc.predict(X_test)\n",
    "pred_gbc_prb = gbc.predict_proba(X_test)\n",
    "                         \n",
    "#SVM\n",
    "svm = SVC(kernel = 'rbf', C = 0.4, probability = True)\n",
    "svm.fit(X_train, y_train)\n",
    "pred_svm = svm.predict(X_test)\n",
    "pred_svm_prb = svm.predict_proba(X_test)\n"
   ]
  },
  {
   "cell_type": "markdown",
   "metadata": {},
   "source": [
    "### 1 . Jaccard Score "
   ]
  },
  {
   "cell_type": "code",
   "execution_count": 150,
   "metadata": {},
   "outputs": [
    {
     "name": "stdout",
     "output_type": "stream",
     "text": [
      "The jaccard accuracy for  kNN  is 0.92\n",
      "The jaccard accuracy for  Logistic Regression  is 0.92\n",
      "The jaccard accuracy for  Decision Tree  is 0.92\n",
      "The jaccard accuracy for  Random Forest  is 0.94\n",
      "The jaccard accuracy for  Gradient Boosted Decision Tree  is 0.92\n",
      "The jaccard accuracy for  SVM  is 0.92\n"
     ]
    }
   ],
   "source": [
    "from sklearn.metrics import jaccard_similarity_score\n",
    "j_acc_knn = jaccard_similarity_score(y_test, pred_knn)\n",
    "j_acc_lgr = jaccard_similarity_score(y_test, pred_lgr)\n",
    "j_acc_dt = jaccard_similarity_score(y_test, pred_dt)\n",
    "j_acc_rf = jaccard_similarity_score(y_test, pred_rf)\n",
    "j_acc_gbc = jaccard_similarity_score(y_test, pred_gbc)\n",
    "j_acc_svm = jaccard_similarity_score(y_test, pred_svm)\n",
    "\n",
    "acc = [j_acc_knn, j_acc_lgr, j_acc_dt, j_acc_rf, j_acc_gbc, j_acc_svm]\n",
    "name = [\"kNN\", \"Logistic Regression\", \"Decision Tree\", \"Random Forest\", \"Gradient Boosted Decision Tree\", \"SVM\"]\n",
    "\n",
    "for i, k in zip(acc, name):\n",
    "    print(\"The jaccard accuracy for \", k, \" is %.2f\" %i)"
   ]
  },
  {
   "cell_type": "markdown",
   "metadata": {},
   "source": [
    "### 2. F1 Score"
   ]
  },
  {
   "cell_type": "code",
   "execution_count": 151,
   "metadata": {},
   "outputs": [
    {
     "name": "stdout",
     "output_type": "stream",
     "text": [
      "The F1 score for  kNN  is 0.90\n",
      "The F1 score for  Logistic Regression  is 0.89\n",
      "The F1 score for  Decision Tree  is 0.89\n",
      "The F1 score for  Random Forest  is 0.93\n",
      "The F1 score for  Gradient Boosted Decision Tree  is 0.89\n",
      "The F1 score for  SVM  is 0.89\n"
     ]
    },
    {
     "name": "stderr",
     "output_type": "stream",
     "text": [
      "/Users/zhichaoweng/anaconda3/lib/python3.6/site-packages/sklearn/metrics/classification.py:1135: UndefinedMetricWarning: F-score is ill-defined and being set to 0.0 in labels with no predicted samples.\n",
      "  'precision', 'predicted', average, warn_for)\n"
     ]
    }
   ],
   "source": [
    "from sklearn.metrics import f1_score\n",
    "f1_acc_knn = f1_score(y_test, pred_knn, average = 'weighted')\n",
    "f1_acc_lgr = f1_score(y_test, pred_lgr, average = 'weighted')\n",
    "f1_acc_dt = f1_score(y_test, pred_dt, average = 'weighted')\n",
    "f1_acc_rf = f1_score(y_test, pred_rf, average = 'weighted')\n",
    "f1_acc_gbc = f1_score(y_test, pred_gbc, average = 'weighted')\n",
    "f1_acc_svm = f1_score(y_test, pred_svm, average = 'weighted')\n",
    "\n",
    "acc = [f1_acc_knn, f1_acc_lgr, f1_acc_dt, f1_acc_rf, f1_acc_gbc, f1_acc_svm]\n",
    "name = [\"kNN\", \"Logistic Regression\", \"Decision Tree\", \"Random Forest\", \"Gradient Boosted Decision Tree\", \"SVM\"]\n",
    "\n",
    "for i, k in zip(acc, name):\n",
    "    print(\"The F1 score for \", k, \" is %.2f\" %i)"
   ]
  },
  {
   "cell_type": "markdown",
   "metadata": {},
   "source": [
    "### 3. Log loss"
   ]
  },
  {
   "cell_type": "code",
   "execution_count": 155,
   "metadata": {},
   "outputs": [
    {
     "name": "stdout",
     "output_type": "stream",
     "text": [
      "The log loss for  kNN  is 1.14\n",
      "The log loss for  Logistic Regression  is 0.30\n",
      "The log loss for  Random Forest  is 0.82\n",
      "The log loss for  Gradient Boosted Decision Tree  is 0.47\n",
      "The log loss for  SVM  is 0.27\n"
     ]
    }
   ],
   "source": [
    "from sklearn.metrics import log_loss\n",
    "log_acc_knn = log_loss(y_test, pred_knn_prb)\n",
    "log_acc_lgr = log_loss(y_test, pred_lgr_prb)\n",
    "log_acc_rf = log_loss(y_test, pred_rf_prb)\n",
    "log_acc_gbc = log_loss(y_test, pred_gbc_prb)\n",
    "log_acc_svm = log_loss(y_test, pred_svm_prb)\n",
    "\n",
    "acc = [log_acc_knn, log_acc_lgr, log_acc_rf, log_acc_gbc, log_acc_svm]\n",
    "name = [\"kNN\", \"Logistic Regression\", \"Random Forest\", \"Gradient Boosted Decision Tree\", \"SVM\"]\n",
    "\n",
    "for i, k in zip(acc, name):\n",
    "    print(\"The log loss for \", k, \" is %.2f\" %i)"
   ]
  },
  {
   "cell_type": "markdown",
   "metadata": {},
   "source": [
    "## Metrics report"
   ]
  },
  {
   "cell_type": "markdown",
   "metadata": {},
   "source": [
    "| Algorithm          | Jaccard | F1-score | LogLoss |\n",
    "|--------------------|---------|----------|---------|\n",
    "| kNN                           | 0.92      | 0.90        | 1.14      |\n",
    "| Logistic Regression           | 0.92       | 0.89        | 0.30      |\n",
    "| Decision Tree                 | 0.92       | 0.89        | NaN     |\n",
    "| Random Forest                 | 0.94       | 0.93        | 0.82       |\n",
    "| Gradient Boosting Decision Tree | 0.92     | 0.89        | 0.47       |\n",
    "| SVM                              | 0.92    | 0.89        | 0.27         |"
   ]
  },
  {
   "cell_type": "code",
   "execution_count": null,
   "metadata": {
    "collapsed": true
   },
   "outputs": [],
   "source": []
  }
 ],
 "metadata": {
  "kernelspec": {
   "display_name": "Python 3",
   "language": "python",
   "name": "python3"
  },
  "language_info": {
   "codemirror_mode": {
    "name": "ipython",
    "version": 3
   },
   "file_extension": ".py",
   "mimetype": "text/x-python",
   "name": "python",
   "nbconvert_exporter": "python",
   "pygments_lexer": "ipython3",
   "version": "3.6.8"
  }
 },
 "nbformat": 4,
 "nbformat_minor": 2
}
